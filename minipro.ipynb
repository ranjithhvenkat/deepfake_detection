{
 "cells": [
  {
   "cell_type": "code",
   "execution_count": 12,
   "id": "ca423a7c",
   "metadata": {},
   "outputs": [],
   "source": [
    "import torch\n",
    "import torch.nn as nn\n",
    "import torch.nn.functional as F\n",
    "import torch.optim as optim\n",
    "from torch.utils.data import DataLoader\n",
    "from torchvision import datasets, transforms\n",
    "from torchvision.datasets import ImageFolder\n",
    "import os\n"
   ]
  },
  {
   "cell_type": "code",
   "execution_count": 13,
   "id": "b94a6293",
   "metadata": {},
   "outputs": [],
   "source": [
    "\n",
    "class CNNViT(nn.Module):\n",
    "    def __init__(self, input_shape=(128, 128, 3), num_classes=2):\n",
    "        super(CNNViT, self).__init__()\n",
    "\n",
    "        # CNN Feature Extractor (now 5 blocks)\n",
    "        self.conv1 = nn.Sequential(\n",
    "            nn.Conv2d(3, 64, 3, padding=1), nn.ReLU(), nn.BatchNorm2d(64), nn.MaxPool2d(2)\n",
    "        )\n",
    "        self.conv2 = nn.Sequential(\n",
    "            nn.Conv2d(64, 128, 3, padding=1), nn.ReLU(), nn.BatchNorm2d(128), nn.MaxPool2d(2)\n",
    "        )\n",
    "        self.conv3 = nn.Sequential(\n",
    "            nn.Conv2d(128, 256, 3, padding=1), nn.ReLU(), nn.BatchNorm2d(256), nn.MaxPool2d(2)\n",
    "        )\n",
    "        self.conv4 = nn.Sequential(\n",
    "            nn.Conv2d(256, 512, 3, padding=1), nn.ReLU(), nn.BatchNorm2d(512), nn.MaxPool2d(2)\n",
    "        )\n",
    "        self.conv5 = nn.Sequential(  # ✅ New Block\n",
    "            nn.Conv2d(512, 512, 3, padding=1), nn.ReLU(), nn.BatchNorm2d(512), nn.MaxPool2d(2)\n",
    "        )\n",
    "\n",
    "        # After 5 max-pools: 128 → 64 → 32 → 16 → 8 → 4\n",
    "        self.flatten_dim = 4 * 4  # 16 patches\n",
    "        self.embedding_dim = 512\n",
    "\n",
    "        # Positional Encoding\n",
    "        self.pos_embedding = nn.Parameter(torch.randn(1, self.flatten_dim, self.embedding_dim))\n",
    "\n",
    "        # Deeper Transformer\n",
    "        encoder_layer = nn.TransformerEncoderLayer(\n",
    "            d_model=self.embedding_dim,\n",
    "            nhead=4,\n",
    "            dim_feedforward=4 * self.embedding_dim,\n",
    "            dropout=0.1,\n",
    "            batch_first=True\n",
    "        )\n",
    "        self.transformer = nn.TransformerEncoder(encoder_layer, num_layers=6)  # ✅ 6 Layers\n",
    "\n",
    "        # Classification head\n",
    "        self.classifier = nn.Sequential(\n",
    "            nn.AdaptiveAvgPool1d(1),\n",
    "            nn.Flatten(),\n",
    "            nn.Linear(self.embedding_dim, 256),\n",
    "            nn.ReLU(),\n",
    "            nn.Dropout(0.5),\n",
    "            nn.Linear(256, num_classes)\n",
    "        )\n",
    "\n",
    "    def forward(self, x):\n",
    "        x = self.conv1(x)\n",
    "        x = self.conv2(x)\n",
    "        x = self.conv3(x)\n",
    "        x = self.conv4(x)\n",
    "        x = self.conv5(x)  # ✅ New CNN block\n",
    "\n",
    "        B, C, H, W = x.shape\n",
    "        x = x.view(B, C, H * W).permute(0, 2, 1)  # (B, P, C)\n",
    "\n",
    "        x = x + self.pos_embedding  # Positional Encoding\n",
    "        x = self.transformer(x)\n",
    "\n",
    "        x = x.permute(0, 2, 1)  # (B, C, P)\n",
    "        x = self.classifier(x)\n",
    "        return x\n"
   ]
  },
  {
   "cell_type": "code",
   "execution_count": 14,
   "id": "7b65117b",
   "metadata": {},
   "outputs": [
    {
     "name": "stdout",
     "output_type": "stream",
     "text": [
      "Classes: ['fake', 'real']\n"
     ]
    }
   ],
   "source": [
    "import os\n",
    "import torch\n",
    "from torchvision import datasets, transforms\n",
    "from torch.utils.data import DataLoader, random_split\n",
    "\n",
    "# ✅ Path to your data directory\n",
    "data_dir = r\"D:\\ML\\mini project\\data\"  # Use raw string or forward slashes\n",
    "\n",
    "# ✅ Transform (similar to ImageDataGenerator)\n",
    "transform = transforms.Compose([\n",
    "    transforms.Resize((128, 128)),\n",
    "    transforms.RandomHorizontalFlip(),\n",
    "    transforms.RandomRotation(15),\n",
    "    transforms.ColorJitter(brightness=0.2),\n",
    "    transforms.RandomAffine(degrees=0, translate=(0.1, 0.1), scale=(0.8, 1.2)),\n",
    "    transforms.ToTensor(),\n",
    "    transforms.Normalize([0.5, 0.5, 0.5], [0.5, 0.5, 0.5])  # optional: normalize like ImageNet\n",
    "])\n",
    "\n",
    "# ✅ Load dataset with ImageFolder\n",
    "full_dataset = datasets.ImageFolder(root=data_dir, transform=transform)\n",
    "\n",
    "# ✅ Split into train and validation (80% train, 20% val)\n",
    "val_size = int(0.2 * len(full_dataset))\n",
    "train_size = len(full_dataset) - val_size\n",
    "train_dataset, val_dataset = random_split(full_dataset, [train_size, val_size])\n",
    "\n",
    "# ✅ Create DataLoaders\n",
    "train_loader = DataLoader(train_dataset, batch_size=32, shuffle=True, num_workers=2)\n",
    "val_loader = DataLoader(val_dataset, batch_size=32, shuffle=False, num_workers=2)\n",
    "\n",
    "# ✅ Class names (same as ['fake', 'real'])\n",
    "print(\"Classes:\", full_dataset.classes)\n"
   ]
  },
  {
   "cell_type": "code",
   "execution_count": 15,
   "id": "e516be36",
   "metadata": {},
   "outputs": [],
   "source": [
    "device = torch.device(\"cuda\" if torch.cuda.is_available() else \"cpu\")\n",
    "model = CNNViT().to(device)\n",
    "\n",
    "criterion = nn.CrossEntropyLoss()\n",
    "optimizer = optim.Adam(model.parameters(), lr=0.001)\n"
   ]
  },
  {
   "cell_type": "code",
   "execution_count": 16,
   "id": "c83ed67b",
   "metadata": {},
   "outputs": [
    {
     "name": "stdout",
     "output_type": "stream",
     "text": [
      "Epoch 1/20 | Train Acc: 0.6587 | Val Acc: 0.6972\n",
      "Epoch 2/20 | Train Acc: 0.6886 | Val Acc: 0.6972\n",
      "Epoch 3/20 | Train Acc: 0.6907 | Val Acc: 0.6972\n",
      "Epoch 4/20 | Train Acc: 0.6907 | Val Acc: 0.6972\n",
      "Epoch 5/20 | Train Acc: 0.6907 | Val Acc: 0.6972\n",
      "Epoch 6/20 | Train Acc: 0.6907 | Val Acc: 0.6972\n",
      "Epoch 7/20 | Train Acc: 0.6907 | Val Acc: 0.6972\n",
      "Epoch 8/20 | Train Acc: 0.6907 | Val Acc: 0.6972\n",
      "Epoch 9/20 | Train Acc: 0.6907 | Val Acc: 0.6972\n",
      "Epoch 10/20 | Train Acc: 0.6907 | Val Acc: 0.6972\n",
      "Epoch 11/20 | Train Acc: 0.6907 | Val Acc: 0.6972\n",
      "Epoch 12/20 | Train Acc: 0.6907 | Val Acc: 0.6972\n",
      "Epoch 13/20 | Train Acc: 0.6907 | Val Acc: 0.6972\n",
      "Epoch 14/20 | Train Acc: 0.6907 | Val Acc: 0.6972\n",
      "Epoch 15/20 | Train Acc: 0.6907 | Val Acc: 0.6972\n",
      "Epoch 16/20 | Train Acc: 0.6907 | Val Acc: 0.6972\n",
      "Epoch 17/20 | Train Acc: 0.6907 | Val Acc: 0.6972\n",
      "Epoch 18/20 | Train Acc: 0.6907 | Val Acc: 0.6972\n",
      "Epoch 19/20 | Train Acc: 0.6907 | Val Acc: 0.6972\n",
      "Epoch 20/20 | Train Acc: 0.6907 | Val Acc: 0.6972\n"
     ]
    }
   ],
   "source": [
    "num_epochs = 20\n",
    "\n",
    "for epoch in range(num_epochs):\n",
    "    model.train()\n",
    "    train_loss, train_acc = 0.0, 0.0\n",
    "\n",
    "    for images, labels in train_loader:\n",
    "        images, labels = images.to(device), labels.to(device)\n",
    "\n",
    "        optimizer.zero_grad()\n",
    "        outputs = model(images)\n",
    "        loss = criterion(outputs, labels)\n",
    "        loss.backward()\n",
    "        optimizer.step()\n",
    "\n",
    "        preds = outputs.argmax(dim=1)\n",
    "        train_acc += (preds == labels).sum().item()\n",
    "        train_loss += loss.item()\n",
    "\n",
    "    train_loss /= len(train_loader)\n",
    "    train_acc /= len(train_dataset)\n",
    "\n",
    "    # Validation\n",
    "    model.eval()\n",
    "    val_loss, val_acc = 0.0, 0.0\n",
    "    with torch.no_grad():\n",
    "        for images, labels in val_loader:\n",
    "            images, labels = images.to(device), labels.to(device)\n",
    "            outputs = model(images)\n",
    "            loss = criterion(outputs, labels)\n",
    "            preds = outputs.argmax(dim=1)\n",
    "            val_acc += (preds == labels).sum().item()\n",
    "            val_loss += loss.item()\n",
    "\n",
    "    val_loss /= len(val_loader)\n",
    "    val_acc /= len(val_dataset)\n",
    "\n",
    "    print(f\"Epoch {epoch+1}/{num_epochs} | Train Acc: {train_acc:.4f} | Val Acc: {val_acc:.4f}\")\n"
   ]
  },
  {
   "cell_type": "code",
   "execution_count": 18,
   "id": "ecc9c8c1",
   "metadata": {},
   "outputs": [
    {
     "name": "stdout",
     "output_type": "stream",
     "text": [
      "✅ Final Validation Accuracy: 69.72%\n"
     ]
    }
   ],
   "source": [
    "model.eval()\n",
    "val_loss, val_acc = 0.0, 0.0\n",
    "with torch.no_grad():\n",
    "    for images, labels in val_loader:\n",
    "        images, labels = images.to(device), labels.to(device)\n",
    "        outputs = model(images)\n",
    "        loss = criterion(outputs, labels)\n",
    "        preds = outputs.argmax(dim=1)\n",
    "        val_acc += (preds == labels).sum().item()\n",
    "        val_loss += loss.item()\n",
    "\n",
    "val_acc /= len(val_dataset)\n",
    "print(f\"✅ Final Validation Accuracy: {val_acc * 100:.2f}%\")\n"
   ]
  },
  {
   "cell_type": "code",
   "execution_count": null,
   "id": "465a54c1",
   "metadata": {},
   "outputs": [
    {
     "name": "stdout",
     "output_type": "stream",
     "text": [
      "Predicted Class: fake with probability: 68.31%\n"
     ]
    }
   ],
   "source": [
    "import torch\n",
    "from torchvision import transforms\n",
    "from PIL import Image\n",
    "import torch.nn.functional as F\n",
    "\n",
    "transform = transforms.Compose([\n",
    "    transforms.Resize((128, 128)),\n",
    "    transforms.ToTensor(),\n",
    "    transforms.Normalize(mean=[0.5, 0.5, 0.5], std=[0.5, 0.5, 0.5]) \n",
    "])\n",
    "\n",
    "img_path = r\"D:\\ML\\mini project\\Will_Smith image\"  \n",
    "image = Image.open(img_path).convert(\"RGB\")\n",
    "image = transform(image).unsqueeze(0) \n",
    "\n",
    "# Load model\n",
    "model = CNNViT()  \n",
    "model.load_state_dict(torch.load(\"cnnvit_model.pth\"))  \n",
    "model.eval()\n",
    "model.to(\"cuda\")\n",
    "\n",
    "image = image.to(\"cuda\")\n",
    "with torch.no_grad():\n",
    "    outputs = model(image)  \n",
    "    probabilities = F.softmax(outputs, dim=1)  \n",
    "    predicted_class = torch.argmax(probabilities, dim=1).item()\n",
    "    prob = probabilities[0][predicted_class].item()\n",
    "\n",
    "\n",
    "classes = ['fake', 'real']\n",
    "print(f\"Predicted Class: {classes[predicted_class]} with probability: {prob * 100:.2f}%\")\n"
   ]
  },
  {
   "cell_type": "code",
   "execution_count": 19,
   "id": "390a7936",
   "metadata": {},
   "outputs": [],
   "source": [
    "torch.save(model.state_dict(), \"cnnvit_model.pth\")\n"
   ]
  },
  {
   "cell_type": "code",
   "execution_count": 23,
   "id": "70b0ccef",
   "metadata": {},
   "outputs": [],
   "source": [
    "from PIL import Image\n",
    "from torchvision import transforms\n",
    "import torch\n",
    "\n",
    "# Define image transform (must match training)\n",
    "transform = transforms.Compose([\n",
    "    transforms.Resize((128, 128)),\n",
    "    transforms.ToTensor(),              # Converts to [0, 1]\n",
    "    transforms.Normalize(mean=[0.5, 0.5, 0.5], std=[0.5, 0.5, 0.5])  # Same norm as training if used\n",
    "])\n",
    "\n",
    "# Load image\n",
    "img_path = r\"D:\\ML\\mini project\\Will_Smith image\"\n",
    "image = Image.open(img_path).convert(\"RGB\")\n",
    "image = transform(image).unsqueeze(0)  # Add batch dimension (1, C, H, W)\n"
   ]
  },
  {
   "cell_type": "code",
   "execution_count": 25,
   "id": "17bc68cd",
   "metadata": {},
   "outputs": [
    {
     "name": "stdout",
     "output_type": "stream",
     "text": [
      "Predicted Class: fake\n"
     ]
    }
   ],
   "source": [
    "image = image.to(\"cuda\")  # Send image to CUDA if model is on CUDA\n",
    "with torch.no_grad():\n",
    "    output = model(image)\n",
    "    predicted_class = torch.argmax(output, dim=1).item()\n",
    "\n",
    "# Map to class name\n",
    "classes = ['fake', 'real']\n",
    "print(f\"Predicted Class: {classes[predicted_class]}\")"
   ]
  },
  {
   "cell_type": "code",
   "execution_count": 24,
   "id": "2d1c5042",
   "metadata": {},
   "outputs": [
    {
     "data": {
      "text/plain": [
       "CNNViT(\n",
       "  (conv1): Sequential(\n",
       "    (0): Conv2d(3, 64, kernel_size=(3, 3), stride=(1, 1), padding=(1, 1))\n",
       "    (1): ReLU()\n",
       "    (2): BatchNorm2d(64, eps=1e-05, momentum=0.1, affine=True, track_running_stats=True)\n",
       "    (3): MaxPool2d(kernel_size=2, stride=2, padding=0, dilation=1, ceil_mode=False)\n",
       "  )\n",
       "  (conv2): Sequential(\n",
       "    (0): Conv2d(64, 128, kernel_size=(3, 3), stride=(1, 1), padding=(1, 1))\n",
       "    (1): ReLU()\n",
       "    (2): BatchNorm2d(128, eps=1e-05, momentum=0.1, affine=True, track_running_stats=True)\n",
       "    (3): MaxPool2d(kernel_size=2, stride=2, padding=0, dilation=1, ceil_mode=False)\n",
       "  )\n",
       "  (conv3): Sequential(\n",
       "    (0): Conv2d(128, 256, kernel_size=(3, 3), stride=(1, 1), padding=(1, 1))\n",
       "    (1): ReLU()\n",
       "    (2): BatchNorm2d(256, eps=1e-05, momentum=0.1, affine=True, track_running_stats=True)\n",
       "    (3): MaxPool2d(kernel_size=2, stride=2, padding=0, dilation=1, ceil_mode=False)\n",
       "  )\n",
       "  (conv4): Sequential(\n",
       "    (0): Conv2d(256, 512, kernel_size=(3, 3), stride=(1, 1), padding=(1, 1))\n",
       "    (1): ReLU()\n",
       "    (2): BatchNorm2d(512, eps=1e-05, momentum=0.1, affine=True, track_running_stats=True)\n",
       "    (3): MaxPool2d(kernel_size=2, stride=2, padding=0, dilation=1, ceil_mode=False)\n",
       "  )\n",
       "  (conv5): Sequential(\n",
       "    (0): Conv2d(512, 512, kernel_size=(3, 3), stride=(1, 1), padding=(1, 1))\n",
       "    (1): ReLU()\n",
       "    (2): BatchNorm2d(512, eps=1e-05, momentum=0.1, affine=True, track_running_stats=True)\n",
       "    (3): MaxPool2d(kernel_size=2, stride=2, padding=0, dilation=1, ceil_mode=False)\n",
       "  )\n",
       "  (transformer): TransformerEncoder(\n",
       "    (layers): ModuleList(\n",
       "      (0-5): 6 x TransformerEncoderLayer(\n",
       "        (self_attn): MultiheadAttention(\n",
       "          (out_proj): NonDynamicallyQuantizableLinear(in_features=512, out_features=512, bias=True)\n",
       "        )\n",
       "        (linear1): Linear(in_features=512, out_features=2048, bias=True)\n",
       "        (dropout): Dropout(p=0.1, inplace=False)\n",
       "        (linear2): Linear(in_features=2048, out_features=512, bias=True)\n",
       "        (norm1): LayerNorm((512,), eps=1e-05, elementwise_affine=True)\n",
       "        (norm2): LayerNorm((512,), eps=1e-05, elementwise_affine=True)\n",
       "        (dropout1): Dropout(p=0.1, inplace=False)\n",
       "        (dropout2): Dropout(p=0.1, inplace=False)\n",
       "      )\n",
       "    )\n",
       "  )\n",
       "  (classifier): Sequential(\n",
       "    (0): AdaptiveAvgPool1d(output_size=1)\n",
       "    (1): Flatten(start_dim=1, end_dim=-1)\n",
       "    (2): Linear(in_features=512, out_features=256, bias=True)\n",
       "    (3): ReLU()\n",
       "    (4): Dropout(p=0.5, inplace=False)\n",
       "    (5): Linear(in_features=256, out_features=2, bias=True)\n",
       "  )\n",
       ")"
      ]
     },
     "execution_count": 24,
     "metadata": {},
     "output_type": "execute_result"
    }
   ],
   "source": [
    "model = CNNViT()  # Instantiate model\n",
    "model.load_state_dict(torch.load(\"cnnvit_model.pth\"))  # Load saved weights\n",
    "model.eval()  # Set model to evaluation mode\n",
    "model.to(\"cuda\")  # Move to GPU if using CUDA"
   ]
  }
 ],
 "metadata": {
  "kernelspec": {
   "display_name": "CUDA GPU",
   "language": "python",
   "name": "cuda"
  },
  "language_info": {
   "codemirror_mode": {
    "name": "ipython",
    "version": 3
   },
   "file_extension": ".py",
   "mimetype": "text/x-python",
   "name": "python",
   "nbconvert_exporter": "python",
   "pygments_lexer": "ipython3",
   "version": "3.13.0"
  }
 },
 "nbformat": 4,
 "nbformat_minor": 5
}
